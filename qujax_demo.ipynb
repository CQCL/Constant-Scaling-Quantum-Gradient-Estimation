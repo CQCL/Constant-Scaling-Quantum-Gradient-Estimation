{
 "cells": [
  {
   "cell_type": "markdown",
   "metadata": {},
   "source": [
    "# EXPERIMENTAL: SPSB qujax demo"
   ]
  },
  {
   "cell_type": "markdown",
   "metadata": {},
   "source": [
    "Note that this feature is experimental and not sufficiently tested. Jitting is not supported by qujax currently."
   ]
  },
  {
   "cell_type": "markdown",
   "metadata": {},
   "source": [
    "## Initialise simple parametrised circuit"
   ]
  },
  {
   "cell_type": "code",
   "execution_count": 1,
   "metadata": {},
   "outputs": [
    {
     "name": "stdout",
     "output_type": "stream",
     "text": [
      "q0: -----H-----Ry[0]-----◯---\n",
      "                         |   \n",
      "q1: ---------------------CZ--\n"
     ]
    }
   ],
   "source": [
    "from jax import numpy as jnp\n",
    "import qujax\n",
    "\n",
    "circuit_gates = ['H', 'Ry', 'CZ']\n",
    "circuit_qubit_inds = [[0], [0], [0, 1]]\n",
    "circuit_params_inds = [[], [0], []]\n",
    "\n",
    "qujax.print_circuit(circuit_gates, circuit_qubit_inds, circuit_params_inds);"
   ]
  },
  {
   "cell_type": "code",
   "execution_count": 2,
   "metadata": {},
   "outputs": [
    {
     "data": {
      "text/plain": [
       "DeviceArray([[-2.9802322e-08+0.j,  0.0000000e+00+0.j],\n",
       "             [ 1.0000000e+00+0.j,  0.0000000e+00+0.j]], dtype=complex64)"
      ]
     },
     "execution_count": 2,
     "metadata": {},
     "output_type": "execute_result"
    }
   ],
   "source": [
    "# Get fuction that maps parameters to state vector\n",
    "param_to_st = qujax.get_params_to_statetensor_func(circuit_gates,\n",
    "                                                   circuit_qubit_inds,\n",
    "                                                   circuit_params_inds)\n",
    "param_to_st(jnp.array([0.5]))"
   ]
  },
  {
   "cell_type": "code",
   "execution_count": 3,
   "metadata": {},
   "outputs": [],
   "source": [
    "# Get function that maps state vector to expectation value\n",
    "st_to_expectation = qujax.get_statetensor_to_expectation_func([['Z']], [[0]], [1.])"
   ]
  },
  {
   "cell_type": "code",
   "execution_count": 4,
   "metadata": {},
   "outputs": [
    {
     "data": {
      "text/plain": [
       "(DeviceArray(-0.3090171, dtype=float32),\n",
       " DeviceArray([-2.987832], dtype=float32))"
      ]
     },
     "execution_count": 4,
     "metadata": {},
     "output_type": "execute_result"
    }
   ],
   "source": [
    "from jax import value_and_grad\n",
    "\n",
    "param_to_expectation = lambda param: st_to_expectation(param_to_st(param))\n",
    "expectation_and_grad = value_and_grad(param_to_expectation)\n",
    "expectation_and_grad(jnp.array([0.1]))"
   ]
  },
  {
   "cell_type": "markdown",
   "metadata": {},
   "source": [
    "## Define custom gradient in jax"
   ]
  },
  {
   "cell_type": "code",
   "execution_count": 5,
   "metadata": {},
   "outputs": [],
   "source": [
    "### custom gradient in jax\n",
    "\n",
    "import jax.numpy as jnp\n",
    "from jax import custom_jvp, random\n",
    "from functools import partial\n",
    "\n",
    "@partial(custom_jvp, nondiff_argnums=(0, 2, 3))\n",
    "def jax_spsa(f, x, key, epsilon = 0.01):\n",
    "  return f(x)\n",
    "\n",
    "@jax_spsa.defjvp\n",
    "def jax_spsa_jvp(f, key, epsilon, primals, tangents):\n",
    "    x, = primals\n",
    "    x_dot, = tangents\n",
    "    shifts = random.randint(key, (len(x),), 0, 2) * 2 - 1\n",
    "    x_plus, x_minus = x + epsilon * shifts, x - epsilon * shifts\n",
    "    jacobian = jnp.outer(f(x_plus) - f(x_minus), 1 / (2 * epsilon * shifts))\n",
    "    jvp = jnp.einsum(\"mn,n -> m\", jacobian, x_dot)\n",
    "    if jvp.shape == (1,):\n",
    "        jvp = jvp[0]\n",
    "    return f(x), jvp"
   ]
  },
  {
   "cell_type": "code",
   "execution_count": 6,
   "metadata": {},
   "outputs": [
    {
     "data": {
      "text/plain": [
       "(DeviceArray(-0.3090171, dtype=float32),\n",
       " DeviceArray([-2.987343], dtype=float32))"
      ]
     },
     "execution_count": 6,
     "metadata": {},
     "output_type": "execute_result"
    }
   ],
   "source": [
    "from jax import value_and_grad, jit\n",
    "\n",
    "g = lambda x, key: jax_spsa(param_to_expectation, x, key)\n",
    "grad_f = jit(value_and_grad(g))\n",
    "\n",
    "key = random.PRNGKey(0)\n",
    "grad_f(jnp.array([0.1]), key)"
   ]
  },
  {
   "cell_type": "code",
   "execution_count": 7,
   "metadata": {},
   "outputs": [
    {
     "name": "stdout",
     "output_type": "stream",
     "text": [
      "51.4 µs ± 3.45 µs per loop (mean ± std. dev. of 7 runs, 10,000 loops each)\n"
     ]
    }
   ],
   "source": [
    "%%timeit\n",
    "grad_f(jnp.array([0.1]), key)"
   ]
  },
  {
   "cell_type": "markdown",
   "metadata": {},
   "source": [
    "## Full hybrid pipeline"
   ]
  },
  {
   "cell_type": "code",
   "execution_count": 8,
   "metadata": {},
   "outputs": [
    {
     "data": {
      "text/plain": [
       "[Rx(x0) q[0]; Rx(x1) q[1]; Rx(x2) q[2]; Rx(x3) q[3]; Rx(x4) q[4]; Rx(x5) q[5]; Rx(x6) q[6]; Rx(x7) q[7]; Rx(x8) q[8]; Rx(x9) q[9]; ]"
      ]
     },
     "execution_count": 8,
     "metadata": {},
     "output_type": "execute_result"
    }
   ],
   "source": [
    "## define input layer with tket\n",
    "import pytket\n",
    "from sympy import symbols\n",
    "from pytket.circuit.display import render_circuit_jupyter\n",
    "\n",
    "N_FEATURES = 10\n",
    "input_circuit = pytket.Circuit(N_FEATURES)\n",
    "syms = symbols('x0:{}'.format(N_FEATURES))\n",
    "for i in range(N_FEATURES):\n",
    "    input_circuit.Rx(syms[i], i)\n",
    "inp_symbols = list(input_circuit.free_symbols())\n",
    "input_circuit"
   ]
  },
  {
   "cell_type": "code",
   "execution_count": 9,
   "metadata": {},
   "outputs": [
    {
     "data": {
      "text/html": [
       "\n",
       "\n",
       "\n",
       "\n",
       "\n",
       "\n",
       "<iframe srcdoc=\"\n",
       "&lt;!DOCTYPE html&gt;\n",
       "&lt;html lang=&#34;en&#34;&gt;\n",
       "&lt;head&gt;\n",
       "    &lt;meta charset=&#34;UTF-8&#34;&gt;\n",
       "    &lt;script type=&#34;application/javascript&#34; src=&#34;https://cdn.jsdelivr.net/npm/vue@3&#34;&gt;&lt;/script&gt;\n",
       "    &lt;script type=&#34;application/javascript&#34; src=&#34;https://unpkg.com/pytket-circuit-renderer@0.3/dist/pytket-circuit-renderer.umd.js&#34;&gt;&lt;/script&gt;\n",
       "    &lt;link rel=&#34;stylesheet&#34; href=&#34;https://unpkg.com/pytket-circuit-renderer@0.3/dist/pytket-circuit-renderer.css&#34;&gt;\n",
       "&lt;/head&gt;\n",
       "&lt;body&gt;\n",
       "    &lt;div id=&#34;circuit-display-vue-container-b00a7b7c-8905-4d07-8fb6-dbd85d54f83d&#34; class=&#34;pytket-circuit-display-container&#34;&gt;\n",
       "        &lt;div style=&#34;display: none&#34;&gt;\n",
       "            &lt;div id=&#34;circuit-json-to-display&#34;&gt;{&#34;bits&#34;: [], &#34;commands&#34;: [{&#34;args&#34;: [[&#34;q&#34;, [0]]], &#34;op&#34;: {&#34;type&#34;: &#34;H&#34;}}, {&#34;args&#34;: [[&#34;q&#34;, [1]]], &#34;op&#34;: {&#34;type&#34;: &#34;H&#34;}}, {&#34;args&#34;: [[&#34;q&#34;, [2]]], &#34;op&#34;: {&#34;type&#34;: &#34;H&#34;}}, {&#34;args&#34;: [[&#34;q&#34;, [3]]], &#34;op&#34;: {&#34;type&#34;: &#34;H&#34;}}, {&#34;args&#34;: [[&#34;q&#34;, [4]]], &#34;op&#34;: {&#34;type&#34;: &#34;H&#34;}}, {&#34;args&#34;: [[&#34;q&#34;, [5]]], &#34;op&#34;: {&#34;type&#34;: &#34;H&#34;}}, {&#34;args&#34;: [[&#34;q&#34;, [6]]], &#34;op&#34;: {&#34;type&#34;: &#34;H&#34;}}, {&#34;args&#34;: [[&#34;q&#34;, [7]]], &#34;op&#34;: {&#34;type&#34;: &#34;H&#34;}}, {&#34;args&#34;: [[&#34;q&#34;, [8]]], &#34;op&#34;: {&#34;type&#34;: &#34;H&#34;}}, {&#34;args&#34;: [[&#34;q&#34;, [9]]], &#34;op&#34;: {&#34;type&#34;: &#34;H&#34;}}, {&#34;args&#34;: [[&#34;q&#34;, [0]], [&#34;q&#34;, [1]]], &#34;op&#34;: {&#34;params&#34;: [&#34;x0_0&#34;], &#34;type&#34;: &#34;CRz&#34;}}, {&#34;args&#34;: [[&#34;q&#34;, [1]], [&#34;q&#34;, [2]]], &#34;op&#34;: {&#34;params&#34;: [&#34;x0_1&#34;], &#34;type&#34;: &#34;CRz&#34;}}, {&#34;args&#34;: [[&#34;q&#34;, [1]]], &#34;op&#34;: {&#34;type&#34;: &#34;H&#34;}}, {&#34;args&#34;: [[&#34;q&#34;, [2]], [&#34;q&#34;, [3]]], &#34;op&#34;: {&#34;params&#34;: [&#34;x0_2&#34;], &#34;type&#34;: &#34;CRz&#34;}}, {&#34;args&#34;: [[&#34;q&#34;, [2]]], &#34;op&#34;: {&#34;type&#34;: &#34;H&#34;}}, {&#34;args&#34;: [[&#34;q&#34;, [3]], [&#34;q&#34;, [4]]], &#34;op&#34;: {&#34;params&#34;: [&#34;x0_3&#34;], &#34;type&#34;: &#34;CRz&#34;}}, {&#34;args&#34;: [[&#34;q&#34;, [3]]], &#34;op&#34;: {&#34;type&#34;: &#34;H&#34;}}, {&#34;args&#34;: [[&#34;q&#34;, [4]], [&#34;q&#34;, [5]]], &#34;op&#34;: {&#34;params&#34;: [&#34;x0_4&#34;], &#34;type&#34;: &#34;CRz&#34;}}, {&#34;args&#34;: [[&#34;q&#34;, [4]]], &#34;op&#34;: {&#34;type&#34;: &#34;H&#34;}}, {&#34;args&#34;: [[&#34;q&#34;, [5]], [&#34;q&#34;, [6]]], &#34;op&#34;: {&#34;params&#34;: [&#34;x0_5&#34;], &#34;type&#34;: &#34;CRz&#34;}}, {&#34;args&#34;: [[&#34;q&#34;, [5]]], &#34;op&#34;: {&#34;type&#34;: &#34;H&#34;}}, {&#34;args&#34;: [[&#34;q&#34;, [6]], [&#34;q&#34;, [7]]], &#34;op&#34;: {&#34;params&#34;: [&#34;x0_6&#34;], &#34;type&#34;: &#34;CRz&#34;}}, {&#34;args&#34;: [[&#34;q&#34;, [6]]], &#34;op&#34;: {&#34;type&#34;: &#34;H&#34;}}, {&#34;args&#34;: [[&#34;q&#34;, [7]], [&#34;q&#34;, [8]]], &#34;op&#34;: {&#34;params&#34;: [&#34;x0_7&#34;], &#34;type&#34;: &#34;CRz&#34;}}, {&#34;args&#34;: [[&#34;q&#34;, [7]]], &#34;op&#34;: {&#34;type&#34;: &#34;H&#34;}}, {&#34;args&#34;: [[&#34;q&#34;, [8]], [&#34;q&#34;, [9]]], &#34;op&#34;: {&#34;params&#34;: [&#34;x0_8&#34;], &#34;type&#34;: &#34;CRz&#34;}}, {&#34;args&#34;: [[&#34;q&#34;, [9]], [&#34;q&#34;, [0]]], &#34;op&#34;: {&#34;params&#34;: [&#34;x0_9&#34;], &#34;type&#34;: &#34;CRz&#34;}}, {&#34;args&#34;: [[&#34;q&#34;, [8]]], &#34;op&#34;: {&#34;type&#34;: &#34;H&#34;}}, {&#34;args&#34;: [[&#34;q&#34;, [0]]], &#34;op&#34;: {&#34;type&#34;: &#34;H&#34;}}, {&#34;args&#34;: [[&#34;q&#34;, [9]]], &#34;op&#34;: {&#34;type&#34;: &#34;H&#34;}}, {&#34;args&#34;: [[&#34;q&#34;, [0]], [&#34;q&#34;, [1]]], &#34;op&#34;: {&#34;params&#34;: [&#34;x1_0&#34;], &#34;type&#34;: &#34;CRz&#34;}}, {&#34;args&#34;: [[&#34;q&#34;, [1]], [&#34;q&#34;, [2]]], &#34;op&#34;: {&#34;params&#34;: [&#34;x1_1&#34;], &#34;type&#34;: &#34;CRz&#34;}}, {&#34;args&#34;: [[&#34;q&#34;, [1]]], &#34;op&#34;: {&#34;type&#34;: &#34;H&#34;}}, {&#34;args&#34;: [[&#34;q&#34;, [2]], [&#34;q&#34;, [3]]], &#34;op&#34;: {&#34;params&#34;: [&#34;x1_2&#34;], &#34;type&#34;: &#34;CRz&#34;}}, {&#34;args&#34;: [[&#34;q&#34;, [2]]], &#34;op&#34;: {&#34;type&#34;: &#34;H&#34;}}, {&#34;args&#34;: [[&#34;q&#34;, [3]], [&#34;q&#34;, [4]]], &#34;op&#34;: {&#34;params&#34;: [&#34;x1_3&#34;], &#34;type&#34;: &#34;CRz&#34;}}, {&#34;args&#34;: [[&#34;q&#34;, [3]]], &#34;op&#34;: {&#34;type&#34;: &#34;H&#34;}}, {&#34;args&#34;: [[&#34;q&#34;, [4]], [&#34;q&#34;, [5]]], &#34;op&#34;: {&#34;params&#34;: [&#34;x1_4&#34;], &#34;type&#34;: &#34;CRz&#34;}}, {&#34;args&#34;: [[&#34;q&#34;, [4]]], &#34;op&#34;: {&#34;type&#34;: &#34;H&#34;}}, {&#34;args&#34;: [[&#34;q&#34;, [5]], [&#34;q&#34;, [6]]], &#34;op&#34;: {&#34;params&#34;: [&#34;x1_5&#34;], &#34;type&#34;: &#34;CRz&#34;}}, {&#34;args&#34;: [[&#34;q&#34;, [5]]], &#34;op&#34;: {&#34;type&#34;: &#34;H&#34;}}, {&#34;args&#34;: [[&#34;q&#34;, [6]], [&#34;q&#34;, [7]]], &#34;op&#34;: {&#34;params&#34;: [&#34;x1_6&#34;], &#34;type&#34;: &#34;CRz&#34;}}, {&#34;args&#34;: [[&#34;q&#34;, [6]]], &#34;op&#34;: {&#34;type&#34;: &#34;H&#34;}}, {&#34;args&#34;: [[&#34;q&#34;, [7]], [&#34;q&#34;, [8]]], &#34;op&#34;: {&#34;params&#34;: [&#34;x1_7&#34;], &#34;type&#34;: &#34;CRz&#34;}}, {&#34;args&#34;: [[&#34;q&#34;, [7]]], &#34;op&#34;: {&#34;type&#34;: &#34;H&#34;}}, {&#34;args&#34;: [[&#34;q&#34;, [8]], [&#34;q&#34;, [9]]], &#34;op&#34;: {&#34;params&#34;: [&#34;x1_8&#34;], &#34;type&#34;: &#34;CRz&#34;}}, {&#34;args&#34;: [[&#34;q&#34;, [9]], [&#34;q&#34;, [0]]], &#34;op&#34;: {&#34;params&#34;: [&#34;x1_9&#34;], &#34;type&#34;: &#34;CRz&#34;}}, {&#34;args&#34;: [[&#34;q&#34;, [8]]], &#34;op&#34;: {&#34;type&#34;: &#34;H&#34;}}, {&#34;args&#34;: [[&#34;q&#34;, [0]]], &#34;op&#34;: {&#34;type&#34;: &#34;H&#34;}}, {&#34;args&#34;: [[&#34;q&#34;, [9]]], &#34;op&#34;: {&#34;type&#34;: &#34;H&#34;}}, {&#34;args&#34;: [[&#34;q&#34;, [0]], [&#34;q&#34;, [1]]], &#34;op&#34;: {&#34;params&#34;: [&#34;x2_0&#34;], &#34;type&#34;: &#34;CRz&#34;}}, {&#34;args&#34;: [[&#34;q&#34;, [1]], [&#34;q&#34;, [2]]], &#34;op&#34;: {&#34;params&#34;: [&#34;x2_1&#34;], &#34;type&#34;: &#34;CRz&#34;}}, {&#34;args&#34;: [[&#34;q&#34;, [2]], [&#34;q&#34;, [3]]], &#34;op&#34;: {&#34;params&#34;: [&#34;x2_2&#34;], &#34;type&#34;: &#34;CRz&#34;}}, {&#34;args&#34;: [[&#34;q&#34;, [3]], [&#34;q&#34;, [4]]], &#34;op&#34;: {&#34;params&#34;: [&#34;x2_3&#34;], &#34;type&#34;: &#34;CRz&#34;}}, {&#34;args&#34;: [[&#34;q&#34;, [4]], [&#34;q&#34;, [5]]], &#34;op&#34;: {&#34;params&#34;: [&#34;x2_4&#34;], &#34;type&#34;: &#34;CRz&#34;}}, {&#34;args&#34;: [[&#34;q&#34;, [5]], [&#34;q&#34;, [6]]], &#34;op&#34;: {&#34;params&#34;: [&#34;x2_5&#34;], &#34;type&#34;: &#34;CRz&#34;}}, {&#34;args&#34;: [[&#34;q&#34;, [6]], [&#34;q&#34;, [7]]], &#34;op&#34;: {&#34;params&#34;: [&#34;x2_6&#34;], &#34;type&#34;: &#34;CRz&#34;}}, {&#34;args&#34;: [[&#34;q&#34;, [7]], [&#34;q&#34;, [8]]], &#34;op&#34;: {&#34;params&#34;: [&#34;x2_7&#34;], &#34;type&#34;: &#34;CRz&#34;}}, {&#34;args&#34;: [[&#34;q&#34;, [8]], [&#34;q&#34;, [9]]], &#34;op&#34;: {&#34;params&#34;: [&#34;x2_8&#34;], &#34;type&#34;: &#34;CRz&#34;}}, {&#34;args&#34;: [[&#34;q&#34;, [9]], [&#34;q&#34;, [0]]], &#34;op&#34;: {&#34;params&#34;: [&#34;x2_9&#34;], &#34;type&#34;: &#34;CRz&#34;}}], &#34;created_qubits&#34;: [], &#34;discarded_qubits&#34;: [], &#34;implicit_permutation&#34;: [[[&#34;q&#34;, [0]], [&#34;q&#34;, [0]]], [[&#34;q&#34;, [1]], [&#34;q&#34;, [1]]], [[&#34;q&#34;, [2]], [&#34;q&#34;, [2]]], [[&#34;q&#34;, [3]], [&#34;q&#34;, [3]]], [[&#34;q&#34;, [4]], [&#34;q&#34;, [4]]], [[&#34;q&#34;, [5]], [&#34;q&#34;, [5]]], [[&#34;q&#34;, [6]], [&#34;q&#34;, [6]]], [[&#34;q&#34;, [7]], [&#34;q&#34;, [7]]], [[&#34;q&#34;, [8]], [&#34;q&#34;, [8]]], [[&#34;q&#34;, [9]], [&#34;q&#34;, [9]]]], &#34;phase&#34;: &#34;0.0&#34;, &#34;qubits&#34;: [[&#34;q&#34;, [0]], [&#34;q&#34;, [1]], [&#34;q&#34;, [2]], [&#34;q&#34;, [3]], [&#34;q&#34;, [4]], [&#34;q&#34;, [5]], [&#34;q&#34;, [6]], [&#34;q&#34;, [7]], [&#34;q&#34;, [8]], [&#34;q&#34;, [9]]]}&lt;/div&gt;\n",
       "        &lt;/div&gt;\n",
       "        &lt;circuit-display-container :circuit-element-str=&#34;&#39;#circuit-json-to-display&#39;&#34;&gt;&lt;/circuit-display-container&gt;\n",
       "    &lt;/div&gt;\n",
       "    &lt;script type=&#34;application/javascript&#34;&gt;\n",
       "        const { createApp } = Vue;\n",
       "        const circuitDisplayContainer = window[&#34;pytket-circuit-renderer&#34;].default;\n",
       "        // Init variables to be shared between circuit display instances\n",
       "        if (typeof window.pytketCircuitDisplays === &#34;undefined&#34;) {\n",
       "            window.pytketCircuitDisplays = {};\n",
       "        }\n",
       "        const uid = &#34;b00a7b7c-8905-4d07-8fb6-dbd85d54f83d&#34;;\n",
       "        // Create the root Vue component\n",
       "        const app = createApp({\n",
       "            delimiters: [&#39;[[#&#39;, &#39;#]]&#39;],\n",
       "            components: { circuitDisplayContainer },\n",
       "        })\n",
       "        app.config.unwrapInjectedRef = true;\n",
       "        app.mount(&#34;#circuit-display-vue-container-&#34;+uid);\n",
       "        window.pytketCircuitDisplays[uid] = app;\n",
       "    &lt;/script&gt;\n",
       "&lt;/body&gt;\n",
       "&lt;/html&gt;\n",
       "\"\n",
       "        width=\"100%\" height=\"200px\"\n",
       "        style=\"border: none; outline: none; resize: vertical; overflow: auto\"></iframe>\n",
       "\n"
      ],
      "text/plain": [
       "<IPython.core.display.HTML object>"
      ]
     },
     "metadata": {},
     "output_type": "display_data"
    }
   ],
   "source": [
    "## define PQC layer with tket\n",
    "N_LAYERS = 3\n",
    "\n",
    "pqc_circuit = pytket.Circuit(N_FEATURES)\n",
    "for i in range(N_LAYERS):\n",
    "    for j in range(N_FEATURES):\n",
    "        pqc_circuit.H(j)\n",
    "    syms = symbols('x{}_:{}'.format(i, N_FEATURES))\n",
    "    for j in range(N_FEATURES):\n",
    "        pqc_circuit.CRz(syms[j], j, (j+1) % N_FEATURES)\n",
    "pqc_symbols = list(pqc_circuit.free_symbols())\n",
    "render_circuit_jupyter(pqc_circuit)"
   ]
  },
  {
   "cell_type": "code",
   "execution_count": 10,
   "metadata": {},
   "outputs": [],
   "source": [
    "# convert to qujax circuit\n",
    "from pytket.extensions.qujax import tk_to_qujax\n",
    "\n",
    "qjax_inp = tk_to_qujax(input_circuit)\n",
    "qjax_pqc = tk_to_qujax(pqc_circuit)\n",
    "exp_val = lambda i: qujax.get_statetensor_to_expectation_func([['Z']], [[i]], [1.])"
   ]
  },
  {
   "cell_type": "markdown",
   "metadata": {},
   "source": [
    "## Define sequence model"
   ]
  },
  {
   "cell_type": "code",
   "execution_count": 11,
   "metadata": {},
   "outputs": [],
   "source": [
    "# Define model forward pass as function of parameters\n",
    "import jax\n",
    "\n",
    "def neural_network(inp: jnp.ndarray, weights: jnp.ndarray, bias: jnp.ndarray):\n",
    "    return  jnp.dot(inp, weights) + bias\n",
    "\n",
    "def evaluate_pqc(params: tuple[jnp.ndarray], state_in: jnp.ndarray):\n",
    "    state = qjax_pqc(params, statetensor_in = state_in)\n",
    "    return jnp.array([exp_val(i)(state) for i in range(N_FEATURES)])\n",
    "\n",
    "def forward_pass(inp: jnp.ndarray, params: tuple[jnp.ndarray], key: random.PRNGKey):\n",
    "    pqc_params, weights, bias = params\n",
    "    exp = jax_spsa(lambda x: evaluate_pqc(x, qjax_inp(inp)), pqc_params, key)\n",
    "    return jax.nn.sigmoid(neural_network(exp, weights, bias)).squeeze()\n",
    "\n",
    "def bce_loss(y_pred: jnp.ndarray, y_true: jnp.ndarray):\n",
    "    return -jnp.mean(y_true * jnp.log(y_pred) + (1 - y_true) * jnp.log(1 - y_pred))"
   ]
  },
  {
   "cell_type": "code",
   "execution_count": 12,
   "metadata": {},
   "outputs": [
    {
     "name": "stdout",
     "output_type": "stream",
     "text": [
      "[[ 0.1  0.2  0.3  0.4  0.5  0.6  0.7  0.8  0.9  1. ]\n",
      " [-1.1 -1.2 -1.3 -1.4 -1.5 -1.6 -1.7 -1.8 -1.9 -2. ]]\n"
     ]
    },
    {
     "data": {
      "text/plain": [
       "DeviceArray(0.4240761, dtype=float32)"
      ]
     },
     "execution_count": 12,
     "metadata": {},
     "output_type": "execute_result"
    }
   ],
   "source": [
    "# init weights and bias\n",
    "initialiser = jax.nn.initializers.xavier_uniform()\n",
    "seed = jax.random.PRNGKey(42)\n",
    "weights = initialiser(seed, shape=(N_FEATURES, 1)).reshape(-1)\n",
    "bias = initialiser(seed, shape=(1,1)).reshape(-1)\n",
    "\n",
    "# init pqc params\n",
    "pqc_params = jnp.array([0.1] * len(pqc_symbols))\n",
    "\n",
    "# init random data point\n",
    "X = jnp.array([jnp.arange(1,N_FEATURES+1)/10, - jnp.arange(11,N_FEATURES+11)/10])\n",
    "print(X)\n",
    "\n",
    "key = random.PRNGKey(0)\n",
    "forward_pass(X[0], (pqc_params, weights, bias), key)"
   ]
  },
  {
   "cell_type": "markdown",
   "metadata": {},
   "source": [
    "## Batch forward pass using vmap"
   ]
  },
  {
   "cell_type": "code",
   "execution_count": 13,
   "metadata": {},
   "outputs": [
    {
     "data": {
      "text/plain": [
       "DeviceArray(0.7256458, dtype=float32)"
      ]
     },
     "execution_count": 13,
     "metadata": {},
     "output_type": "execute_result"
    }
   ],
   "source": [
    "from jax import vmap, jit\n",
    "\n",
    "batched_forward = vmap(forward_pass, in_axes=(0, None, 0))\n",
    "\n",
    "def loss(params: tuple[jnp.ndarray], x: jnp.ndarray, y: jnp.ndarray, keys):\n",
    "    return bce_loss(batched_forward(x, params, keys), y)\n",
    "\n",
    "keys = random.split(random.PRNGKey(0), X.shape[0])\n",
    "loss((pqc_params, weights, bias), X, jnp.array([1, 0]), keys)"
   ]
  },
  {
   "cell_type": "code",
   "execution_count": 14,
   "metadata": {},
   "outputs": [],
   "source": [
    "# differentiate forward pass\n",
    "from jax import grad, value_and_grad\n",
    "\n",
    "# differentiate loss function\n",
    "loss_diff = value_and_grad(loss)"
   ]
  },
  {
   "cell_type": "code",
   "execution_count": 15,
   "metadata": {},
   "outputs": [
    {
     "data": {
      "text/plain": [
       "(DeviceArray(0.7256458, dtype=float32),\n",
       " (DeviceArray([-0.23352231,  0.23352231, -0.00825857,  0.23352231,\n",
       "               -0.23352231, -0.00825857,  0.23352231, -0.23352231,\n",
       "               -0.23352231,  0.23352231, -0.00825857,  0.00825857,\n",
       "                0.00825857, -0.00825857, -0.00825857,  0.23352231,\n",
       "                0.00825857,  0.23352231,  0.00825857, -0.23352231,\n",
       "               -0.23352231,  0.00825857, -0.00825857, -0.00825857,\n",
       "                0.00825857,  0.23352231,  0.00825857, -0.00825857,\n",
       "               -0.23352231, -0.23352231], dtype=float32),\n",
       "  DeviceArray([-0.02162374,  0.05224386,  0.05086371,  0.02579838,\n",
       "               -0.01278262, -0.04925542, -0.06854713, -0.06194098,\n",
       "               -0.03051315,  0.01311487], dtype=float32),\n",
       "  DeviceArray([-0.06417122], dtype=float32)))"
      ]
     },
     "execution_count": 15,
     "metadata": {},
     "output_type": "execute_result"
    }
   ],
   "source": [
    "\n",
    "grads = loss_diff((pqc_params, weights, bias), X, jnp.array([1, 0]), keys)\n",
    "grads"
   ]
  },
  {
   "cell_type": "code",
   "execution_count": 16,
   "metadata": {},
   "outputs": [
    {
     "name": "stdout",
     "output_type": "stream",
     "text": [
      "0.7256458\n",
      "0.58034235\n",
      "0.51091444\n",
      "0.43540254\n",
      "0.366306\n",
      "0.3127075\n",
      "0.27715468\n",
      "0.25229624\n",
      "0.22131762\n",
      "0.19839846\n"
     ]
    }
   ],
   "source": [
    "## dummy training loop on one data point\n",
    "\n",
    "EPOCHS = 100\n",
    "lr = 0.05\n",
    "\n",
    "params = (pqc_params, weights, bias)\n",
    "keys = random.split(random.PRNGKey(0), 2)\n",
    "for i in range(EPOCHS):\n",
    "    l, g = loss_diff(params, X, jnp.array([1, 0]), keys)\n",
    "    params = tuple([p - lr * dp for p, dp in zip(params, g)])\n",
    "    if i % 10 == 0:\n",
    "        print(l)\n",
    "    keys = random.split(keys[0], 2)"
   ]
  },
  {
   "cell_type": "code",
   "execution_count": 17,
   "metadata": {},
   "outputs": [
    {
     "name": "stdout",
     "output_type": "stream",
     "text": [
      "[0.83497715 0.14854527]\n"
     ]
    }
   ],
   "source": [
    "print(batched_forward(X, params, keys))"
   ]
  },
  {
   "cell_type": "code",
   "execution_count": 18,
   "metadata": {},
   "outputs": [
    {
     "name": "stdout",
     "output_type": "stream",
     "text": [
      "[ 0.23745634 -0.45760047 -0.03453054  0.02349231  0.27595183 -0.1169655\n",
      " -0.06281106  0.03284042 -0.18145494  0.46764514  0.00294071  0.6101422\n",
      " -0.22739966 -0.16985445  0.24884352 -0.79263234 -0.13080046 -0.1581683\n",
      "  0.38816467  0.5107795   0.2863212   0.4946003   0.12075298  0.21502936\n",
      "  0.30593657  0.31343654  0.22957851 -0.1476155  -0.04844237  0.28401342]\n"
     ]
    }
   ],
   "source": [
    "print(params[0])"
   ]
  },
  {
   "cell_type": "markdown",
   "metadata": {},
   "source": [
    "## Train model on random Dataset"
   ]
  },
  {
   "cell_type": "code",
   "execution_count": 19,
   "metadata": {},
   "outputs": [],
   "source": [
    "from sklearn.datasets import make_classification\n",
    "from sklearn.preprocessing import MinMaxScaler\n",
    "\n",
    "N_SAMPLES = 100\n",
    "\n",
    "X, Y = make_classification(N_SAMPLES, n_features=N_FEATURES)\n",
    "# scale X to [0,2]\n",
    "X = MinMaxScaler((0,2)).fit_transform(X)\n",
    "X = X.tolist()\n",
    "Y = Y.tolist()\n",
    "\n",
    "# init weights and bias\n",
    "initialiser = jax.nn.initializers.xavier_uniform()\n",
    "seed = jax.random.PRNGKey(42)\n",
    "weights = initialiser(seed, shape=(N_FEATURES, 1)).squeeze()\n",
    "bias = initialiser(seed, shape=(1,1)).squeeze()\n",
    "\n",
    "# init pqc params\n",
    "pqc_params = jnp.array([0.001] * len(pqc_symbols))"
   ]
  },
  {
   "cell_type": "code",
   "execution_count": 20,
   "metadata": {},
   "outputs": [
    {
     "name": "stdout",
     "output_type": "stream",
     "text": [
      "loss:  0.68098915\n",
      "loss:  0.38259873\n",
      "loss:  0.33773172\n",
      "loss:  0.3014973\n",
      "loss:  0.29896453\n",
      "loss:  0.27872872\n",
      "loss:  0.28999788\n",
      "loss:  0.25355116\n",
      "loss:  0.25849822\n",
      "loss:  0.24837571\n",
      "Final loss:  0.21246229\n"
     ]
    }
   ],
   "source": [
    "from jax.example_libraries.optimizers import adam\n",
    "from lambeq import Dataset\n",
    "from time import time\n",
    "\n",
    "opt_init, opt_update, get_params = adam(1e-2)\n",
    "opt_state = opt_init((pqc_params, weights, bias))\n",
    "\n",
    "## init data loader\n",
    "BATCH_SIZE = 10\n",
    "dataset = Dataset(X, Y, batch_size=BATCH_SIZE)\n",
    "\n",
    "EPOCHS = 100\n",
    "\n",
    "step = 0\n",
    "keys = random.split(random.PRNGKey(0), BATCH_SIZE)\n",
    "loss = []\n",
    "for epoch in range(EPOCHS):\n",
    "  epoch_loss = 0\n",
    "  for x, y in dataset:\n",
    "    keys = random.split(keys[0], len(x))\n",
    "    x, y = jnp.array(x), jnp.array(y)\n",
    "    value, grads = loss_diff(get_params(opt_state), x, y, keys)\n",
    "    opt_state = opt_update(step, grads, opt_state)\n",
    "    epoch_loss += len(y)*value\n",
    "    step += 1\n",
    "  loss.append(epoch_loss / len(dataset))\n",
    "  if epoch % 10 == 0:\n",
    "    print('loss: ', loss[-1])\n",
    "print('Final loss: ', loss[-1])"
   ]
  },
  {
   "cell_type": "code",
   "execution_count": 21,
   "metadata": {},
   "outputs": [
    {
     "data": {
      "image/png": "[encoded data removed]",
      "text/plain": [
       "<Figure size 640x480 with 1 Axes>"
      ]
     },
     "metadata": {},
     "output_type": "display_data"
    }
   ],
   "source": [
    "import matplotlib.pyplot as plt\n",
    "\n",
    "plt.plot(loss);"
   ]
  }
 ],
 "metadata": {
  "language_info": {
   "name": "python"
  }
 },
 "nbformat": 4,
 "nbformat_minor": 2
}
